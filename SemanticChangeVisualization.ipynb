{
  "nbformat": 4,
  "nbformat_minor": 0,
  "metadata": {
    "colab": {
      "name": "Untitled0.ipynb",
      "version": "0.3.2",
      "provenance": [],
      "collapsed_sections": []
    },
    "kernelspec": {
      "name": "python3",
      "display_name": "Python 3"
    }
  },
  "cells": [
    {
      "cell_type": "code",
      "metadata": {
        "id": "XF4ivemQJ-x8",
        "colab_type": "code",
        "colab": {}
      },
      "source": [
        "\n",
        "import io\n",
        "import numpy as np"
      ],
      "execution_count": 0,
      "outputs": []
    },
    {
      "cell_type": "code",
      "metadata": {
        "id": "uMlpr4W6KwtB",
        "colab_type": "code",
        "colab": {}
      },
      "source": [
        "def load_vec(emb_path, nmax=50000):\n",
        "    vectors = []\n",
        "    word2id = {}\n",
        "    with io.open(emb_path, 'r', encoding='utf-8', newline='\\n', errors='ignore') as f:\n",
        "        next(f)\n",
        "        for i, line in enumerate(f):\n",
        "            word, vect = line.rstrip().split(' ', 1)\n",
        "            vect = np.fromstring(vect, sep=' ')\n",
        "            assert word not in word2id, 'word found twice'\n",
        "            vectors.append(vect)\n",
        "            word2id[word] = len(word2id)\n",
        "            if len(word2id) == nmax:\n",
        "                break\n",
        "    id2word = {v: k for k, v in word2id.items()}\n",
        "    embeddings = np.vstack(vectors)\n",
        "    return embeddings, id2word, word2id"
      ],
      "execution_count": 0,
      "outputs": []
    },
    {
      "cell_type": "code",
      "metadata": {
        "id": "ftsFKQStK1kJ",
        "colab_type": "code",
        "colab": {}
      },
      "source": [
        "src_path = 'vectors-17.txt'\n",
        "tgt_path = 'vectors-18.txt'\n",
        "nmax = 50000  # maximum number of word embeddings to load\n",
        "\n",
        "src_embeddings, src_id2word, src_word2id = load_vec(src_path, nmax)\n",
        "tgt_embeddings, tgt_id2word, tgt_word2id = load_vec(tgt_path, nmax)"
      ],
      "execution_count": 0,
      "outputs": []
    },
    {
      "cell_type": "code",
      "metadata": {
        "id": "Tl_RGyyALBrC",
        "colab_type": "code",
        "colab": {}
      },
      "source": [
        "def get_nn(word, src_emb, src_id2word, tgt_emb, tgt_id2word, K=5):\n",
        "    print(\"Nearest neighbors of \\\"%s\\\":\" % word)\n",
        "    word2id = {v: k for k, v in src_id2word.items()}\n",
        "    word_emb = src_emb[word2id[word]]\n",
        "    scores = (tgt_emb / np.linalg.norm(tgt_emb, 2, 1)[:, None]).dot(word_emb / np.linalg.norm(word_emb))\n",
        "    k_best = scores.argsort()[-K:][::-1]\n",
        "    for i, idx in enumerate(k_best):\n",
        "        print('%.4f - %s' % (scores[idx], tgt_id2word[idx]))"
      ],
      "execution_count": 0,
      "outputs": []
    },
    {
      "cell_type": "code",
      "metadata": {
        "id": "VTAZw4E8LF00",
        "colab_type": "code",
        "outputId": "7c5b6dcb-3dd7-40fd-fad3-df64400e2558",
        "colab": {
          "base_uri": "https://localhost:8080/",
          "height": 119
        }
      },
      "source": [
        "# printing nearest neighbors in the source space\n",
        "src_word = 'Gott'.lower()\n",
        "get_nn(src_word, src_embeddings, src_id2word, src_embeddings, src_id2word, K=5)"
      ],
      "execution_count": 18,
      "outputs": [
        {
          "output_type": "stream",
          "text": [
            "Nearest neighbors of \"gott\":\n",
            "1.0000 - gott\n",
            "0.9999 - herzogin\n",
            "0.9999 - liebe\n",
            "0.9999 - nun\n",
            "0.9999 - weile\n"
          ],
          "name": "stdout"
        }
      ]
    },
    {
      "cell_type": "code",
      "metadata": {
        "id": "iE4G3KouRH_K",
        "colab_type": "code",
        "outputId": "9f55c21b-fd9a-46df-ca01-71fea088e996",
        "colab": {
          "base_uri": "https://localhost:8080/",
          "height": 119
        }
      },
      "source": [
        "# printing nearest neighbors in the target space\n",
        "src_word = 'Gott'.lower()\n",
        "get_nn(src_word, src_embeddings, src_id2word, tgt_embeddings, tgt_id2word, K=5)"
      ],
      "execution_count": 19,
      "outputs": [
        {
          "output_type": "stream",
          "text": [
            "Nearest neighbors of \"gott\":\n",
            "0.9996 - vii\n",
            "0.9996 - viii\n",
            "0.9996 - xii\n",
            "0.9996 - 16\n",
            "0.9996 - 9\n"
          ],
          "name": "stdout"
        }
      ]
    },
    {
      "cell_type": "code",
      "metadata": {
        "id": "EANgNYunR1Df",
        "colab_type": "code",
        "outputId": "fed32158-2a35-40cf-f348-0171fc95b61e",
        "colab": {
          "base_uri": "https://localhost:8080/",
          "height": 34
        }
      },
      "source": [
        "from sklearn.decomposition import PCA\n",
        "pca = PCA(n_components=2, whiten=True)  # TSNE(n_components=2, n_iter=3000, verbose=2) PCA(n_components=2, whiten=True) \n",
        "pca.fit(np.vstack([src_embeddings, tgt_embeddings]))\n",
        "print('Variance explained: %.2f' % pca.explained_variance_ratio_.sum())"
      ],
      "execution_count": 20,
      "outputs": [
        {
          "output_type": "stream",
          "text": [
            "Variance explained: 0.90\n"
          ],
          "name": "stdout"
        }
      ]
    },
    {
      "cell_type": "code",
      "metadata": {
        "id": "cAuISZw5rtF4",
        "colab_type": "code",
        "colab": {}
      },
      "source": [
        "import matplotlib.pyplot as plt\n",
        "\n",
        "\n",
        "def plot_similar_word(src_words, src_word2id, src_emb, tgt_words, tgt_word2id, tgt_emb, pca):\n",
        "\n",
        "    Y = []\n",
        "    word_labels = []\n",
        "    for sw in src_words:\n",
        "        Y.append(src_emb[src_word2id[sw.lower()]])\n",
        "        word_labels.append(sw)\n",
        "    for tw in tgt_words:\n",
        "        Y.append(tgt_emb[tgt_word2id[tw.lower()]])\n",
        "        word_labels.append(tw)\n",
        "\n",
        "    # find tsne coords for 2 dimensions\n",
        "    Y = pca.transform(Y)\n",
        "    x_coords = Y[:, 0]\n",
        "    y_coords = Y[:, 1]\n",
        "\n",
        "    # display scatter plot\n",
        "    plt.figure(figsize=(10, 8), dpi=80)\n",
        "    plt.scatter(x_coords, y_coords, marker='x')\n",
        "\n",
        "    for k, (label, x, y) in enumerate(zip(word_labels, x_coords, y_coords)):\n",
        "        color = 'blue' if k < len(src_words) else 'red'  # src words in blue / tgt words in red\n",
        "        plt.annotate(label, xy=(x, y), xytext=(0, 0), textcoords='offset points', fontsize=19,\n",
        "                     color=color, weight='bold')\n",
        "\n",
        "    plt.xlim(x_coords.min() - 0.2, x_coords.max() + 0.2)\n",
        "    plt.ylim(y_coords.min() - 0.2, y_coords.max() + 0.2)\n",
        "    plt.title('Visualization of the multilingual word embedding space')\n",
        "\n",
        "    plt.show()"
      ],
      "execution_count": 0,
      "outputs": []
    },
    {
      "cell_type": "code",
      "metadata": {
        "id": "J5OjgLuQrzdt",
        "colab_type": "code",
        "outputId": "9b2036e9-889e-4be2-c14e-79acf124db9e",
        "colab": {
          "base_uri": "https://localhost:8080/",
          "height": 550
        }
      },
      "source": [
        "# get 5 random input words\n",
        "src_words = ['Gott', 'und', 'haben', 'göttlich']\n",
        "tgt_words = ['Gott','und', 'haben', 'göttlich']\n",
        "\n",
        "# assert words in dictionaries\n",
        "for sw in src_words:\n",
        "    assert sw.lower() in src_word2id, '\"%s\" not in source dictionary' % sw\n",
        "for tw in tgt_words:\n",
        "    assert tw.lower() in tgt_word2id, '\"%s\" not in target dictionary' % sw\n",
        "\n",
        "plot_similar_word(src_words, src_word2id, src_embeddings, tgt_words, tgt_word2id, tgt_embeddings, pca)"
      ],
      "execution_count": 22,
      "outputs": [
        {
          "output_type": "display_data",
          "data": {
            "image/png": "[encoded data removed]",
            "text/plain": [
              "<Figure size 800x640 with 1 Axes>"
            ]
          },
          "metadata": {
            "tags": []
          }
        }
      ]
    },
    {
      "cell_type": "code",
      "metadata": {
        "id": "aV9AZ6O7KYFg",
        "colab_type": "code",
        "colab": {}
      },
      "source": [
        "import scipy"
      ],
      "execution_count": 0,
      "outputs": []
    },
    {
      "cell_type": "code",
      "metadata": {
        "id": "iHtMfqfMNVsF",
        "colab_type": "code",
        "outputId": "2cfc17d8-7bfb-4af7-81b4-f6122cc348d4",
        "colab": {
          "base_uri": "https://localhost:8080/",
          "height": 153
        }
      },
      "source": [
        "import scipy\n",
        "\n",
        "src_word2id = {v: k for k, v in src_id2word.items()}\n",
        "tgt_word2id = {v: k for k, v in tgt_id2word.items()}\n",
        "\n",
        "test_words = ['Gott', 'und', 'haben', 'göttlich']\n",
        "tgt_words = ['Gott','und', 'haben', 'göttlich']\n",
        "\n",
        "# assert words in dictionaries\n",
        "for tw in test_words:\n",
        "  #src_embedings[src_word2id[tw.lower()]]\n",
        "  \n",
        "  print(tw)\n",
        "  #dist = 1 - scipy.spatial.distance.cosine(src_embeddings[src_word2id[tw.lower()]], tgt_embeddings[tgt_word2id[tw.lower()]])\n",
        "  dist = scipy.spatial.distance.cosine(src_embeddings[src_word2id[tw.lower()]], tgt_embeddings[tgt_word2id[tw.lower()]])\n",
        "  print(str(dist))\n",
        "#scipy.spatial.distance.cosine(src_embeddings['Gott'], tgt_embeddings['Gott'])"
      ],
      "execution_count": 26,
      "outputs": [
        {
          "output_type": "stream",
          "text": [
            "Gott\n",
            "0.0039771190608466345\n",
            "und\n",
            "0.0037643407104889226\n",
            "haben\n",
            "0.020668688462661677\n",
            "göttlich\n",
            "0.0273183054870465\n"
          ],
          "name": "stdout"
        }
      ]
    },
    {
      "cell_type": "code",
      "metadata": {
        "id": "HA2-GlRdNxS2",
        "colab_type": "code",
        "colab": {}
      },
      "source": [
        "\n",
        "\n"
      ],
      "execution_count": 0,
      "outputs": []
    }
  ]
}